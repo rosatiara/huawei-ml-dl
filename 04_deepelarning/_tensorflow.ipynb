{
 "cells": [
  {
   "cell_type": "markdown",
   "metadata": {},
   "source": [
    "# Tensor\n",
    "Dalam TensorFlow, tensor terklasifikasi menjadi **tensor konstan** dan **tensor variable**\n",
    "- tensor konstan = tensor yang nilai dan dimensinya tidak bisa diubah-ubah. tensor konstan biasa digunakan untuk menyimpan hyperparameter.\n",
    "\n",
    "- variable tensor = tensor yang value-nya bisa diubah, namun dimensinya tidak bisa diubah. variable tensor biasanya direpresentasikan sebagai matrix untuk menyimpan weights dan informasi lain. variable tensor juga merupakan tipe data yang dapat di-train (_trainable data_).\n"
   ]
  },
  {
   "cell_type": "code",
   "execution_count": 2,
   "metadata": {},
   "outputs": [],
   "source": [
    "import tensorflow as tf"
   ]
  },
  {
   "cell_type": "code",
   "execution_count": 6,
   "metadata": {},
   "outputs": [
    {
     "name": "stdout",
     "output_type": "stream",
     "text": [
      "shape:  (2, 2)\n",
      "data type:  <dtype: 'float32'>\n",
      "value:  [[1. 2.]\n",
      " [3. 4.]]\n"
     ]
    }
   ],
   "source": [
    "const_a = tf.constant([[1,2, 3, 4]], shape=[2,2], dtype=tf.float32)\n",
    "const_a\n",
    "\n",
    "# common constant attributes\n",
    "print(\"shape: \", const_a.shape) \n",
    "print(\"data type: \", const_a.dtype) \n",
    "print(\"value: \", const_a.numpy())"
   ]
  },
  {
   "cell_type": "code",
   "execution_count": 12,
   "metadata": {},
   "outputs": [
    {
     "data": {
      "text/plain": [
       "array([[0., 0.],\n",
       "       [0., 0.]], dtype=float32)"
      ]
     },
     "execution_count": 12,
     "metadata": {},
     "output_type": "execute_result"
    }
   ],
   "source": [
    "zeros_b = tf.zeros([3,5], dtype=tf.float32)\n",
    "zeros_b\n",
    "\n",
    "zeros_like_b = tf.zeros_like(const_a) # create zeroes with attributes like const_a\n",
    "zeros_like_b.numpy()"
   ]
  },
  {
   "cell_type": "code",
   "execution_count": 15,
   "metadata": {},
   "outputs": [
    {
     "data": {
      "text/plain": [
       "<tf.Tensor: shape=(2, 3), dtype=int32, numpy=\n",
       "array([[9, 9, 9],\n",
       "       [9, 9, 9]])>"
      ]
     },
     "execution_count": 15,
     "metadata": {},
     "output_type": "execute_result"
    }
   ],
   "source": [
    "fill_c = tf.fill([2,3], 9) # create a 2x3 matrix filled with 9s\n",
    "fill_c"
   ]
  },
  {
   "cell_type": "code",
   "execution_count": 18,
   "metadata": {},
   "outputs": [
    {
     "data": {
      "text/plain": [
       "array([[ 0.4291683 ,  0.03209855,  0.11945234],\n",
       "       [-1.552837  , -1.529219  ,  0.12525094]], dtype=float32)"
      ]
     },
     "execution_count": 18,
     "metadata": {},
     "output_type": "execute_result"
    }
   ],
   "source": [
    "random_e = tf.random.normal([2,3], mean=0, stddev=1, seed=1) # create a 2x3 matrix filled with random numbers\n",
    "random_e.numpy()"
   ]
  },
  {
   "cell_type": "code",
   "execution_count": 22,
   "metadata": {},
   "outputs": [
    {
     "data": {
      "text/plain": [
       "<tf.Tensor: shape=(10,), dtype=float32, numpy=array([ 1.,  2.,  3.,  4.,  5.,  6.,  7.,  8.,  9., 10.], dtype=float32)>"
      ]
     },
     "execution_count": 22,
     "metadata": {},
     "output_type": "execute_result"
    }
   ],
   "source": [
    "# convert value to tensor\n",
    "my_list = [1,2,3,4,5,6,7,8,9,10]\n",
    "tensor_list = tf.convert_to_tensor(my_list, dtype=tf.float32)\n",
    "tensor_list"
   ]
  },
  {
   "cell_type": "code",
   "execution_count": 26,
   "metadata": {},
   "outputs": [
    {
     "data": {
      "text/plain": [
       "<tf.Variable 'Variable:0' shape=(2, 2) dtype=float32, numpy=\n",
       "array([[1., 1.],\n",
       "       [1., 1.]], dtype=float32)>"
      ]
     },
     "execution_count": 26,
     "metadata": {},
     "output_type": "execute_result"
    }
   ],
   "source": [
    "# creating variable tensor\n",
    "var_a = tf.Variable(tf.ones([2,2]), dtype=tf.float32)\n",
    "var_a\n"
   ]
  },
  {
   "cell_type": "code",
   "execution_count": 29,
   "metadata": {},
   "outputs": [
    {
     "data": {
      "text/plain": [
       "<tf.Tensor: shape=(100, 100, 3), dtype=float32, numpy=\n",
       "array([[[-1.18719065e+00, -2.63436377e-01, -1.52620959e+00],\n",
       "        [ 1.30696321e+00, -4.24901694e-01,  4.89547729e-01],\n",
       "        [-7.94782769e-03,  4.36548769e-01, -1.72637093e+00],\n",
       "        ...,\n",
       "        [ 2.12353063e+00, -3.76383752e-01,  1.39547810e-01],\n",
       "        [-1.73320577e-01,  8.88793647e-01,  9.79248211e-02],\n",
       "        [ 1.09435272e+00,  9.09661651e-01, -5.66842675e-01]],\n",
       "\n",
       "       [[-2.77779818e-01,  2.75303304e-01,  6.35645986e-01],\n",
       "        [ 2.28012470e-03, -1.20523250e+00,  5.39059676e-02],\n",
       "        [-1.06216706e-01,  4.58525345e-02, -1.18232083e+00],\n",
       "        ...,\n",
       "        [ 1.86671838e-01, -1.96268129e+00, -2.20672083e+00],\n",
       "        [-3.36997986e-01,  4.60574806e-01,  3.06418324e+00],\n",
       "        [-6.18160129e-01,  1.81018651e+00,  1.04465508e+00]],\n",
       "\n",
       "       [[-1.95649695e+00, -1.18814826e+00,  3.59745532e-01],\n",
       "        [-1.08861196e+00,  1.21214747e+00, -3.25597554e-01],\n",
       "        [-3.56437773e-01, -3.05301160e-01, -6.42887414e-01],\n",
       "        ...,\n",
       "        [-7.36649930e-01, -1.70603737e-01,  7.42183268e-01],\n",
       "        [-1.52639711e+00, -4.39941555e-01,  3.91484320e-01],\n",
       "        [ 1.99479353e+00,  8.73120129e-01, -1.09946474e-01]],\n",
       "\n",
       "       ...,\n",
       "\n",
       "       [[-1.60924578e+00,  4.03005749e-01, -5.09395525e-02],\n",
       "        [-8.27688798e-02,  1.18243217e+00,  1.69870585e-01],\n",
       "        [ 4.43327874e-01,  6.11884296e-02, -4.90608960e-01],\n",
       "        ...,\n",
       "        [ 2.19190264e+00, -1.42682815e+00, -5.10690033e-01],\n",
       "        [ 4.60985839e-01,  2.01221406e-01, -7.95765281e-01],\n",
       "        [-2.68783271e-01,  4.04105395e-01, -4.21906084e-01]],\n",
       "\n",
       "       [[-6.89274311e-01, -7.29423910e-02,  8.13153863e-01],\n",
       "        [ 8.42801034e-01,  1.63192129e+00, -2.99924761e-01],\n",
       "        [ 8.79790783e-01, -1.17540002e+00, -2.28751376e-02],\n",
       "        ...,\n",
       "        [ 8.45762417e-02,  5.44084907e-01,  1.25975519e-01],\n",
       "        [ 1.63798496e-01,  6.53733253e-01,  4.91404869e-02],\n",
       "        [-1.88656867e+00, -1.24575198e+00,  5.58954895e-01]],\n",
       "\n",
       "       [[-1.38596356e-01, -8.97558808e-01,  1.10376108e+00],\n",
       "        [ 5.78274429e-01,  1.75779417e-01,  9.99116957e-01],\n",
       "        [ 1.17423439e+00,  4.85240459e-01,  1.46464729e+00],\n",
       "        ...,\n",
       "        [ 1.73007596e+00, -3.19757387e-02, -4.65061158e-01],\n",
       "        [-1.04710531e+00, -6.47194624e-01, -8.14505279e-01],\n",
       "        [ 1.06470631e-02,  4.55215365e-01, -8.65484357e-01]]],\n",
       "      dtype=float32)>"
      ]
     },
     "execution_count": 29,
     "metadata": {},
     "output_type": "execute_result"
    }
   ],
   "source": [
    "my_tensor = tf.random.normal([4,100,100,3])\n",
    "my_tensor\n",
    "\n",
    "# extract the first image\n",
    "my_tensor[0,:,:,:]\n",
    "\n",
    "# extract one slice at an interval of two imgs\n",
    "my_tensor[::2,:,:,:] # or my_tensor[::2]\n",
    "\n",
    "# slice data from the last element\n",
    "my_tensor[-1,:,:,:] # or my_tensor[::-1]"
   ]
  },
  {
   "cell_type": "code",
   "execution_count": 32,
   "metadata": {},
   "outputs": [
    {
     "data": {
      "text/plain": [
       "<tf.Tensor: shape=(2,), dtype=float32, numpy=array([-0.88494915,  0.00523869], dtype=float32)>"
      ]
     },
     "execution_count": 32,
     "metadata": {},
     "output_type": "execute_result"
    }
   ],
   "source": [
    "my_tensor[0][19][39][1]\n",
    "indices = [0, 1, 3]\n",
    "tf.gather(my_tensor, indices=indices, axis=0, batch_dims=0)\n",
    "\n",
    "indices = [[0,1,1,0], [1,2,2,0]]\n",
    "tf.gather_nd(my_tensor, indices=indices)\n",
    "\n"
   ]
  },
  {
   "cell_type": "code",
   "execution_count": 34,
   "metadata": {},
   "outputs": [
    {
     "name": "stdout",
     "output_type": "stream",
     "text": [
      "shape:  (3, 4)\n",
      "shape:  (3, 4)\n",
      "rank:  2\n",
      "size:  tf.Tensor(12, shape=(), dtype=int32)\n"
     ]
    }
   ],
   "source": [
    "# TENSOR DIMENSION MODIFICATION\n",
    "\n",
    "const_d = tf.constant([[1,2,3,4], [5,6,7,8], [9,10,11,12]], dtype=tf.float32)\n",
    "\n",
    "# there are three common methods for viewing a dimension\n",
    "print(\"shape: \", const_d.shape)\n",
    "print(\"shape: \", const_d.get_shape())\n",
    "\n",
    "\n",
    "print(\"rank: \", const_d.ndim)\n",
    "print(\"size: \", tf.size(const_d))\n",
    "\n",
    "# test\n"
   ]
  },
  {
   "cell_type": "markdown",
   "metadata": {},
   "source": [
    "in TF, a tensor has a both static (inferred) shape and a dynamic (true) shape.\n",
    "The static shape can be read using `tf.Tensor.get_shape()` -> inferred from the operations that were used to create the tensor, but may be partially complete.\n",
    "\n",
    "The dynamic shape can be read using `tf.Tensor.shape` -> the true shape of the tensor"
   ]
  },
  {
   "cell_type": "code",
   "execution_count": 37,
   "metadata": {},
   "outputs": [
    {
     "name": "stdout",
     "output_type": "stream",
     "text": [
      "tf.Tensor(\n",
      "[[ 1.  2.  3.  4.  5.  6.]\n",
      " [ 7.  8.  9. 10. 11. 12.]], shape=(2, 6), dtype=float32)\n"
     ]
    },
    {
     "data": {
      "text/plain": [
       "array([[ 1.,  2.,  3.,  4.,  5.,  6.],\n",
       "       [ 7.,  8.,  9., 10., 11., 12.]], dtype=float32)"
      ]
     },
     "execution_count": 37,
     "metadata": {},
     "output_type": "execute_result"
    }
   ],
   "source": [
    "reshape_d = tf.reshape(const_d, [2,6])\n",
    "print(reshape_d)\n",
    "tf.reshape(const_d, [2,6]).numpy()"
   ]
  }
 ],
 "metadata": {
  "kernelspec": {
   "display_name": "Python 3.10.2 64-bit",
   "language": "python",
   "name": "python3"
  },
  "language_info": {
   "codemirror_mode": {
    "name": "ipython",
    "version": 3
   },
   "file_extension": ".py",
   "mimetype": "text/x-python",
   "name": "python",
   "nbconvert_exporter": "python",
   "pygments_lexer": "ipython3",
   "version": "3.10.2"
  },
  "orig_nbformat": 4,
  "vscode": {
   "interpreter": {
    "hash": "661c9fc443e9071e90d7dc80d4092ed007e1e67e17e12b1f6b1cd12c13d9aa66"
   }
  }
 },
 "nbformat": 4,
 "nbformat_minor": 2
}
