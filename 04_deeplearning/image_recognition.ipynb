{
 "cells": [
  {
   "cell_type": "code",
   "execution_count": 6,
   "metadata": {},
   "outputs": [],
   "source": [
    "import tensorflow as tf\n",
    "fashion_mnist = tf.keras.datasets.fashion_mnist\n",
    "\n",
    "(train_X, train_Y), (test_X, test_Y) = fashion_mnist.load_data()"
   ]
  },
  {
   "cell_type": "code",
   "execution_count": 7,
   "metadata": {},
   "outputs": [
    {
     "data": {
      "text/plain": [
       "10"
      ]
     },
     "execution_count": 7,
     "metadata": {},
     "output_type": "execute_result"
    }
   ],
   "source": [
    "from collections import Counter\n",
    "len(Counter(train_Y).keys())"
   ]
  },
  {
   "cell_type": "code",
   "execution_count": 8,
   "metadata": {},
   "outputs": [
    {
     "data": {
      "text/plain": [
       "<matplotlib.image.AxesImage at 0x2504d266d40>"
      ]
     },
     "execution_count": 8,
     "metadata": {},
     "output_type": "execute_result"
    },
    {
     "data": {
      "image/png": "[encoded data removed]",
      "text/plain": [
       "<Figure size 432x288 with 1 Axes>"
      ]
     },
     "metadata": {
      "needs_background": "light"
     },
     "output_type": "display_data"
    }
   ],
   "source": [
    "import matplotlib.pyplot as plt\n",
    "plt.imshow(train_X[5], cmap='jet')"
   ]
  },
  {
   "cell_type": "markdown",
   "metadata": {},
   "source": [
    "# Preprocessing Data\n",
    "Preprocessing data perlu dilakukan sebelum membuat neural networks supaya data sesuai dengan format input dan output neural net."
   ]
  },
  {
   "cell_type": "code",
   "execution_count": 9,
   "metadata": {},
   "outputs": [],
   "source": [
    "train_label = tf.keras.utils.to_categorical(train_Y, num_classes=10)\n",
    "test_label = tf.keras.utils.to_categorical(test_Y, num_classes=10)\n",
    "\n",
    "train_input = tf.data.Dataset.from_tensor_slices((train_X, train_label)).batch(100) # 100 samples diklasifikasi menjadi satu group\n",
    "test_input = tf.data.Dataset.from_tensor_slices((test_X, test_label)).batch(100)"
   ]
  },
  {
   "cell_type": "markdown",
   "metadata": {},
   "source": [
    "## Membuat neural net"
   ]
  },
  {
   "cell_type": "code",
   "execution_count": 10,
   "metadata": {},
   "outputs": [
    {
     "name": "stdout",
     "output_type": "stream",
     "text": [
      "Model: \"model_1\"\n",
      "_________________________________________________________________\n",
      " Layer (type)                Output Shape              Param #   \n",
      "=================================================================\n",
      " input_2 (InputLayer)        [(None, 28, 28)]          0         \n",
      "                                                                 \n",
      " flatten_1 (Flatten)         (None, 784)               0         \n",
      "                                                                 \n",
      " dense_5 (Dense)             (None, 100)               78500     \n",
      "                                                                 \n",
      " dense_6 (Dense)             (None, 100)               10100     \n",
      "                                                                 \n",
      " dense_7 (Dense)             (None, 100)               10100     \n",
      "                                                                 \n",
      " dense_8 (Dense)             (None, 100)               10100     \n",
      "                                                                 \n",
      " dense_9 (Dense)             (None, 10)                1010      \n",
      "                                                                 \n",
      "=================================================================\n",
      "Total params: 109,810\n",
      "Trainable params: 109,810\n",
      "Non-trainable params: 0\n",
      "_________________________________________________________________\n"
     ]
    }
   ],
   "source": [
    "input_data = tf.keras.layers.Input(shape=(28, 28))\n",
    "dense = tf.keras.layers.Flatten()(input_data)\n",
    "\n",
    "dense = tf.keras.layers.Dense(100, activation='relu')(dense)\n",
    "dense = tf.keras.layers.Dense(100, activation='relu')(dense)\n",
    "dense = tf.keras.layers.Dense(100, activation='relu')(dense)\n",
    "dense = tf.keras.layers.Dense(100, activation='relu')(dense)\n",
    "\n",
    "output_data = tf.keras.layers.Dense(10, activation='softmax')(dense)\n",
    "\n",
    "model = tf.keras.Model(inputs=input_data, outputs=output_data)\n",
    "model.compile(optimizer='adam', loss='categorical_crossentropy', metrics=['accuracy'])\n",
    "\n",
    "model.summary()"
   ]
  },
  {
   "cell_type": "code",
   "execution_count": 11,
   "metadata": {},
   "outputs": [
    {
     "name": "stdout",
     "output_type": "stream",
     "text": [
      "Epoch 1/20\n",
      "600/600 [==============================] - 4s 4ms/step - loss: 1.4097 - accuracy: 0.7385\n",
      "Epoch 2/20\n",
      "600/600 [==============================] - 2s 4ms/step - loss: 0.5252 - accuracy: 0.8164\n",
      "Epoch 3/20\n",
      "600/600 [==============================] - 2s 4ms/step - loss: 0.4550 - accuracy: 0.8368\n",
      "Epoch 4/20\n",
      "600/600 [==============================] - 2s 4ms/step - loss: 0.4213 - accuracy: 0.8479\n",
      "Epoch 5/20\n",
      "600/600 [==============================] - 3s 4ms/step - loss: 0.4027 - accuracy: 0.8548\n",
      "Epoch 6/20\n",
      "600/600 [==============================] - 2s 4ms/step - loss: 0.3803 - accuracy: 0.8606\n",
      "Epoch 7/20\n",
      "600/600 [==============================] - 2s 4ms/step - loss: 0.3689 - accuracy: 0.8659\n",
      "Epoch 8/20\n",
      "600/600 [==============================] - 2s 4ms/step - loss: 0.3570 - accuracy: 0.8693\n",
      "Epoch 9/20\n",
      "600/600 [==============================] - 2s 4ms/step - loss: 0.3485 - accuracy: 0.8724\n",
      "Epoch 10/20\n",
      "600/600 [==============================] - 2s 4ms/step - loss: 0.3395 - accuracy: 0.8756\n",
      "Epoch 11/20\n",
      "600/600 [==============================] - 2s 4ms/step - loss: 0.3281 - accuracy: 0.8783\n",
      "Epoch 12/20\n",
      "600/600 [==============================] - 2s 4ms/step - loss: 0.3234 - accuracy: 0.8816\n",
      "Epoch 13/20\n",
      "600/600 [==============================] - 2s 4ms/step - loss: 0.3173 - accuracy: 0.8831\n",
      "Epoch 14/20\n",
      "600/600 [==============================] - 2s 4ms/step - loss: 0.3119 - accuracy: 0.8849\n",
      "Epoch 15/20\n",
      "600/600 [==============================] - 2s 4ms/step - loss: 0.3048 - accuracy: 0.8878\n",
      "Epoch 16/20\n",
      "600/600 [==============================] - 2s 4ms/step - loss: 0.2962 - accuracy: 0.8898\n",
      "Epoch 17/20\n",
      "600/600 [==============================] - 2s 4ms/step - loss: 0.2927 - accuracy: 0.8910\n",
      "Epoch 18/20\n",
      "600/600 [==============================] - 2s 4ms/step - loss: 0.2880 - accuracy: 0.8924\n",
      "Epoch 19/20\n",
      "600/600 [==============================] - 2s 4ms/step - loss: 0.2869 - accuracy: 0.8924\n",
      "Epoch 20/20\n",
      "600/600 [==============================] - 2s 4ms/step - loss: 0.2856 - accuracy: 0.8932\n"
     ]
    },
    {
     "data": {
      "text/plain": [
       "<keras.callbacks.History at 0x2504d265e40>"
      ]
     },
     "execution_count": 11,
     "metadata": {},
     "output_type": "execute_result"
    }
   ],
   "source": [
    "# train model\n",
    "model.fit(train_input, epochs=20) # 20x training\n"
   ]
  },
  {
   "cell_type": "markdown",
   "metadata": {},
   "source": [
    "# Membuat CNN"
   ]
  },
  {
   "cell_type": "code",
   "execution_count": 13,
   "metadata": {},
   "outputs": [
    {
     "name": "stdout",
     "output_type": "stream",
     "text": [
      "Model: \"model_3\"\n",
      "_________________________________________________________________\n",
      " Layer (type)                Output Shape              Param #   \n",
      "=================================================================\n",
      " input_4 (InputLayer)        [(None, 28, 28, 1)]       0         \n",
      "                                                                 \n",
      " conv2d_3 (Conv2D)           (None, 28, 28, 30)        780       \n",
      "                                                                 \n",
      " conv2d_4 (Conv2D)           (None, 28, 28, 30)        22530     \n",
      "                                                                 \n",
      " max_pooling2d_1 (MaxPooling  (None, 14, 14, 30)       0         \n",
      " 2D)                                                             \n",
      "                                                                 \n",
      " conv2d_5 (Conv2D)           (None, 14, 14, 30)        22530     \n",
      "                                                                 \n",
      " flatten_3 (Flatten)         (None, 5880)              0         \n",
      "                                                                 \n",
      " dense_11 (Dense)            (None, 10)                58810     \n",
      "                                                                 \n",
      "=================================================================\n",
      "Total params: 104,650\n",
      "Trainable params: 104,650\n",
      "Non-trainable params: 0\n",
      "_________________________________________________________________\n"
     ]
    }
   ],
   "source": [
    "train_data = tf.expand_dims(train_X, axis=-1)\n",
    "test_data = tf.expand_dims(test_X, axis=-1)\n",
    "\n",
    "# stitching & small-batch processing\n",
    "train_input = tf.data.Dataset.from_tensor_slices((train_data, train_label)).batch(100)\n",
    "test_input = tf.data.Dataset.from_tensor_slices((test_data, test_label)).batch(100)\n",
    "\n",
    "# input layer\n",
    "# CNN input membutuhkan multidimensional channel warna untuk menampilkan image\n",
    "# jika tdk ada dimensi yang ditambahkan, maka akan error\n",
    "\n",
    "input_data = tf.keras.layers.Input(shape=(28, 28, 1))\n",
    "\n",
    "# convolutional layer\n",
    "conv = tf.keras.layers.Conv2D(30, 5, padding='SAME', activation='relu')(input_data)\n",
    "conv = tf.keras.layers.Conv2D(30, 5, padding='SAME', activation='relu')(conv)\n",
    "\n",
    "# pooling layer\n",
    "conv = tf.keras.layers.MaxPool2D(pool_size=(2, 2))(conv)\n",
    "conv = tf.keras.layers.Conv2D(30, 5, padding='SAME', activation='relu')(conv)\n",
    "\n",
    "# buat fully-connected layer\n",
    "dense = tf.keras.layers.Flatten()(conv)\n",
    "output_data = tf.keras.layers.Dense(10, activation='softmax')(dense)\n",
    "\n",
    "model = tf.keras.Model(inputs=input_data, outputs=output_data)\n",
    "model.compile(optimizer=tf.optimizers.Adam(0.001), loss='categorical_crossentropy', metrics=['accuracy'])\n",
    "model.summary()\n",
    "\n"
   ]
  },
  {
   "cell_type": "code",
   "execution_count": 14,
   "metadata": {},
   "outputs": [
    {
     "name": "stdout",
     "output_type": "stream",
     "text": [
      "600/600 [==============================] - 235s 388ms/step - loss: 0.5946 - accuracy: 0.8408\n",
      "100/100 [==============================] - 10s 102ms/step - loss: 0.3551 - accuracy: 0.8717\n"
     ]
    },
    {
     "data": {
      "text/plain": [
       "[0.3550531268119812, 0.8716999888420105]"
      ]
     },
     "execution_count": 14,
     "metadata": {},
     "output_type": "execute_result"
    }
   ],
   "source": [
    "# train and test model\n",
    "model.fit(train_input, epochs=1)\n",
    "model.evaluate(test_input)\n"
   ]
  },
  {
   "cell_type": "code",
   "execution_count": null,
   "metadata": {},
   "outputs": [],
   "source": [
    "model.save('./model.h5')"
   ]
  },
  {
   "cell_type": "code",
   "execution_count": null,
   "metadata": {},
   "outputs": [],
   "source": [
    "modelx = tf.keras.models.load_model('./model.h5')\n",
    "modelx.evaluate(test_input)"
   ]
  }
 ],
 "metadata": {
  "kernelspec": {
   "display_name": "Python 3.10.2 64-bit",
   "language": "python",
   "name": "python3"
  },
  "language_info": {
   "codemirror_mode": {
    "name": "ipython",
    "version": 3
   },
   "file_extension": ".py",
   "mimetype": "text/x-python",
   "name": "python",
   "nbconvert_exporter": "python",
   "pygments_lexer": "ipython3",
   "version": "3.10.2"
  },
  "orig_nbformat": 4,
  "vscode": {
   "interpreter": {
    "hash": "661c9fc443e9071e90d7dc80d4092ed007e1e67e17e12b1f6b1cd12c13d9aa66"
   }
  }
 },
 "nbformat": 4,
 "nbformat_minor": 2
}
