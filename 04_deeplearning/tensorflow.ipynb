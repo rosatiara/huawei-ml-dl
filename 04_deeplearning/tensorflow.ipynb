{
 "cells": [
  {
   "cell_type": "markdown",
   "metadata": {},
   "source": [
    "# Tensor\n",
    "Dalam TensorFlow, tensor terklasifikasi menjadi **tensor konstan** dan **tensor variable**\n",
    "- tensor konstan = tensor yang nilai dan dimensinya tidak bisa diubah-ubah. tensor konstan biasa digunakan untuk menyimpan hyperparameter.\n",
    "\n",
    "- variable tensor = tensor yang value-nya bisa diubah, namun dimensinya tidak bisa diubah. variable tensor biasanya direpresentasikan sebagai matrix untuk menyimpan weights dan informasi lain. variable tensor juga merupakan tipe data yang dapat di-train (_trainable data_).\n"
   ]
  },
  {
   "cell_type": "code",
   "execution_count": 2,
   "metadata": {},
   "outputs": [],
   "source": [
    "import tensorflow as tf"
   ]
  },
  {
   "cell_type": "code",
   "execution_count": 3,
   "metadata": {},
   "outputs": [
    {
     "name": "stdout",
     "output_type": "stream",
     "text": [
      "shape:  (2, 2)\n",
      "data type:  <dtype: 'float32'>\n",
      "value:  [[1. 2.]\n",
      " [3. 4.]]\n"
     ]
    }
   ],
   "source": [
    "const_a = tf.constant([[1,2, 3, 4]], shape=[2,2], dtype=tf.float32)\n",
    "const_a\n",
    "\n",
    "# common constant attributes\n",
    "print(\"shape: \", const_a.shape) \n",
    "print(\"data type: \", const_a.dtype) \n",
    "print(\"value: \", const_a.numpy())"
   ]
  },
  {
   "cell_type": "code",
   "execution_count": 4,
   "metadata": {},
   "outputs": [
    {
     "data": {
      "text/plain": [
       "array([[0., 0.],\n",
       "       [0., 0.]], dtype=float32)"
      ]
     },
     "execution_count": 4,
     "metadata": {},
     "output_type": "execute_result"
    }
   ],
   "source": [
    "zeros_b = tf.zeros([3,5], dtype=tf.float32)\n",
    "zeros_b\n",
    "\n",
    "zeros_like_b = tf.zeros_like(const_a) # create zeroes with attributes like const_a\n",
    "zeros_like_b.numpy()"
   ]
  },
  {
   "cell_type": "code",
   "execution_count": 5,
   "metadata": {},
   "outputs": [
    {
     "data": {
      "text/plain": [
       "<tf.Tensor: shape=(2, 3), dtype=int32, numpy=\n",
       "array([[9, 9, 9],\n",
       "       [9, 9, 9]])>"
      ]
     },
     "execution_count": 5,
     "metadata": {},
     "output_type": "execute_result"
    }
   ],
   "source": [
    "fill_c = tf.fill([2,3], 9) # create a 2x3 matrix filled with 9s\n",
    "fill_c"
   ]
  },
  {
   "cell_type": "code",
   "execution_count": 6,
   "metadata": {},
   "outputs": [
    {
     "data": {
      "text/plain": [
       "array([[-0.8113182 ,  1.4845988 ,  0.06532937],\n",
       "       [-2.4427042 ,  0.0992484 ,  0.5912243 ]], dtype=float32)"
      ]
     },
     "execution_count": 6,
     "metadata": {},
     "output_type": "execute_result"
    }
   ],
   "source": [
    "random_e = tf.random.normal([2,3], mean=0, stddev=1, seed=1) # create a 2x3 matrix filled with random numbers\n",
    "random_e.numpy()"
   ]
  },
  {
   "cell_type": "code",
   "execution_count": 7,
   "metadata": {},
   "outputs": [
    {
     "data": {
      "text/plain": [
       "<tf.Tensor: shape=(10,), dtype=float32, numpy=array([ 1.,  2.,  3.,  4.,  5.,  6.,  7.,  8.,  9., 10.], dtype=float32)>"
      ]
     },
     "execution_count": 7,
     "metadata": {},
     "output_type": "execute_result"
    }
   ],
   "source": [
    "# convert value to tensor\n",
    "my_list = [1,2,3,4,5,6,7,8,9,10]\n",
    "tensor_list = tf.convert_to_tensor(my_list, dtype=tf.float32)\n",
    "tensor_list"
   ]
  },
  {
   "cell_type": "code",
   "execution_count": 8,
   "metadata": {},
   "outputs": [
    {
     "data": {
      "text/plain": [
       "<tf.Variable 'Variable:0' shape=(2, 2) dtype=float32, numpy=\n",
       "array([[1., 1.],\n",
       "       [1., 1.]], dtype=float32)>"
      ]
     },
     "execution_count": 8,
     "metadata": {},
     "output_type": "execute_result"
    }
   ],
   "source": [
    "# creating variable tensor\n",
    "var_a = tf.Variable(tf.ones([2,2]), dtype=tf.float32)\n",
    "var_a\n"
   ]
  },
  {
   "cell_type": "code",
   "execution_count": 9,
   "metadata": {},
   "outputs": [
    {
     "data": {
      "text/plain": [
       "<tf.Tensor: shape=(100, 100, 3), dtype=float32, numpy=\n",
       "array([[[-5.9198022e-01, -7.6775628e-01, -5.0193805e-01],\n",
       "        [-1.1309314e+00,  3.3112246e-01,  1.7204274e+00],\n",
       "        [ 3.0965519e-01, -1.0130666e+00,  2.2829510e-01],\n",
       "        ...,\n",
       "        [-1.3092105e+00,  2.6306912e-01,  5.1721241e-02],\n",
       "        [-3.1991130e-01, -7.7411965e-02, -5.8808494e-01],\n",
       "        [ 1.3067348e-01, -3.0970109e-01,  1.5885645e+00]],\n",
       "\n",
       "       [[ 3.3922918e-02, -1.0403768e+00,  9.3364352e-01],\n",
       "        [-1.5429293e+00,  9.1013360e-01,  6.4618927e-01],\n",
       "        [ 1.1929549e+00,  8.1612599e-01,  1.2023048e+00],\n",
       "        ...,\n",
       "        [ 3.2750383e-01, -1.3997563e+00,  3.4533975e-01],\n",
       "        [ 3.0418736e-01, -1.8915264e-01,  5.4494017e-01],\n",
       "        [ 9.1730618e-01, -2.3503714e+00, -1.5147152e+00]],\n",
       "\n",
       "       [[-3.3456367e-02,  2.1049490e+00,  2.7709273e-01],\n",
       "        [ 2.6709434e-02, -3.6667846e-04,  1.6176660e-01],\n",
       "        [ 2.8057134e-01, -5.6067920e-01,  4.3588507e-01],\n",
       "        ...,\n",
       "        [ 1.2878704e-01, -8.3453113e-01, -1.4759235e+00],\n",
       "        [ 8.8653046e-01,  1.1706073e+00,  7.6111592e-02],\n",
       "        [ 7.8754485e-01, -7.9654080e-01,  2.1289720e-01]],\n",
       "\n",
       "       ...,\n",
       "\n",
       "       [[ 2.0802679e+00, -3.4162849e-01,  2.0432714e-01],\n",
       "        [ 6.3044679e-01,  3.7378362e-01, -2.8352278e-01],\n",
       "        [ 8.4453630e-01,  4.5371103e-01,  4.7791168e-01],\n",
       "        ...,\n",
       "        [-6.3112074e-01, -6.2429816e-01,  1.7353506e+00],\n",
       "        [-3.2029590e-01,  1.6839100e+00, -7.8689975e-01],\n",
       "        [-5.8067251e-02,  1.5254388e+00,  7.3723769e-01]],\n",
       "\n",
       "       [[ 6.9081253e-01,  1.7190267e+00, -1.2403228e+00],\n",
       "        [-3.2736850e-01,  3.4335011e-01, -2.0441782e-01],\n",
       "        [ 4.1929865e-01,  7.7073030e-02, -4.2103854e-01],\n",
       "        ...,\n",
       "        [-6.7654520e-01, -1.9624457e-01, -6.7402589e-01],\n",
       "        [-1.8154000e-01,  4.3031359e-01, -8.1911796e-01],\n",
       "        [ 4.9804169e-01,  1.2367387e+00, -7.7941340e-01]],\n",
       "\n",
       "       [[ 1.0381509e+00,  7.7937055e-01, -1.4177715e+00],\n",
       "        [-4.1017786e-01,  5.6110490e-02, -3.0641827e-01],\n",
       "        [ 3.5369259e-01,  4.6175149e-01,  2.3062514e-01],\n",
       "        ...,\n",
       "        [-5.2573186e-01,  9.5664126e-01, -6.1216183e-02],\n",
       "        [ 5.6266886e-01, -1.6891972e+00,  8.9536113e-01],\n",
       "        [-8.5418093e-01,  2.2931356e+00,  5.3283787e-01]]], dtype=float32)>"
      ]
     },
     "execution_count": 9,
     "metadata": {},
     "output_type": "execute_result"
    }
   ],
   "source": [
    "my_tensor = tf.random.normal([4,100,100,3])\n",
    "my_tensor\n",
    "\n",
    "# extract the first image\n",
    "my_tensor[0,:,:,:]\n",
    "\n",
    "# extract one slice at an interval of two imgs\n",
    "my_tensor[::2,:,:,:] # or my_tensor[::2]\n",
    "\n",
    "# slice data from the last element\n",
    "my_tensor[-1,:,:,:] # or my_tensor[::-1]"
   ]
  },
  {
   "cell_type": "code",
   "execution_count": 10,
   "metadata": {},
   "outputs": [
    {
     "data": {
      "text/plain": [
       "<tf.Tensor: shape=(2,), dtype=float32, numpy=array([1.5280974 , 0.13820727], dtype=float32)>"
      ]
     },
     "execution_count": 10,
     "metadata": {},
     "output_type": "execute_result"
    }
   ],
   "source": [
    "my_tensor[0][19][39][1]\n",
    "indices = [0, 1, 3]\n",
    "tf.gather(my_tensor, indices=indices, axis=0, batch_dims=0)\n",
    "\n",
    "indices = [[0,1,1,0], [1,2,2,0]]\n",
    "tf.gather_nd(my_tensor, indices=indices)\n",
    "\n"
   ]
  },
  {
   "cell_type": "code",
   "execution_count": 11,
   "metadata": {},
   "outputs": [
    {
     "name": "stdout",
     "output_type": "stream",
     "text": [
      "shape:  (3, 4)\n",
      "shape:  (3, 4)\n",
      "rank:  2\n",
      "size:  tf.Tensor(12, shape=(), dtype=int32)\n"
     ]
    }
   ],
   "source": [
    "# TENSOR DIMENSION MODIFICATION\n",
    "\n",
    "const_d = tf.constant([[1,2,3,4], [5,6,7,8], [9,10,11,12]], dtype=tf.float32)\n",
    "\n",
    "# there are three common methods for viewing a dimension\n",
    "print(\"shape: \", const_d.shape)\n",
    "print(\"shape: \", const_d.get_shape())\n",
    "\n",
    "\n",
    "print(\"rank: \", const_d.ndim)\n",
    "print(\"size: \", tf.size(const_d))\n",
    "\n",
    "# test\n"
   ]
  },
  {
   "cell_type": "markdown",
   "metadata": {},
   "source": [
    "in TF, a tensor has a both static (inferred) shape and a dynamic (true) shape.\n",
    "The static shape can be read using `tf.Tensor.get_shape()` -> inferred from the operations that were used to create the tensor, but may be partially complete.\n",
    "\n",
    "The dynamic shape can be read using `tf.Tensor.shape` -> the true shape of the tensor"
   ]
  },
  {
   "cell_type": "code",
   "execution_count": 12,
   "metadata": {},
   "outputs": [
    {
     "name": "stdout",
     "output_type": "stream",
     "text": [
      "tf.Tensor(\n",
      "[[ 1.  2.  3.  4.  5.  6.]\n",
      " [ 7.  8.  9. 10. 11. 12.]], shape=(2, 6), dtype=float32)\n"
     ]
    },
    {
     "data": {
      "text/plain": [
       "array([[ 1.,  2.,  3.,  4.,  5.,  6.],\n",
       "       [ 7.,  8.,  9., 10., 11., 12.]], dtype=float32)"
      ]
     },
     "execution_count": 12,
     "metadata": {},
     "output_type": "execute_result"
    }
   ],
   "source": [
    "reshape_d = tf.reshape(const_d, [2,6])\n",
    "print(reshape_d)\n",
    "tf.reshape(const_d, [2,6]).numpy()"
   ]
  },
  {
   "cell_type": "markdown",
   "metadata": {},
   "source": [
    "### Dimensi tensor dapat diperbesar dengan `tf.expand_dims()` atau diperkecil dengan `tf.squeeze()`"
   ]
  },
  {
   "cell_type": "code",
   "execution_count": 18,
   "metadata": {},
   "outputs": [
    {
     "name": "stdout",
     "output_type": "stream",
     "text": [
      "tf.Tensor(\n",
      "[[[ 1.  2.  3.  4.]\n",
      "  [ 5.  6.  7.  8.]\n",
      "  [ 9. 10. 11. 12.]]], shape=(1, 3, 4), dtype=float32)\n",
      "tf.Tensor(\n",
      "[[ 1.  2.  3.  4.]\n",
      " [ 5.  6.  7.  8.]\n",
      " [ 9. 10. 11. 12.]], shape=(3, 4), dtype=float32)\n",
      "size of the original data:  (3, 4)\n",
      "size of the transposed data:  (4, 3)\n"
     ]
    }
   ],
   "source": [
    "expand_sample = tf.expand_dims(const_d, axis=0)\n",
    "print(expand_sample) # add a dimension at the beginning\n",
    "tf.expand_dims(const_d, axis=0).numpy()\n",
    "\n",
    "squeeze_sample = tf.squeeze(expand_sample)\n",
    "print(squeeze_sample) # remove the dimension at the beginning (from 1x3x4 to 3x4)\n",
    "\n",
    "\n",
    "## --------------------- matrix transpose ---------------------\n",
    "transpose_sample = tf.constant([[1,2,3,4], [5,6,7,8], [9,10,11,12]], dtype=tf.float32)\n",
    "print(\"size of the original data: \", transpose_sample.shape)\n",
    "\n",
    "transposed_sample = tf.transpose(transpose_sample)\n",
    "print(\"size of the transposed data: \", transposed_sample.shape) # the matrix has transposed from 3x4 to 4x3\n",
    "\n"
   ]
  },
  {
   "cell_type": "markdown",
   "metadata": {},
   "source": [
    "\n",
    "## Broadcasting\n",
    "- cara untuk melakukan operasi pada tensor pada shapes yang berbeda-beda\n",
    "- tensor yang lebih kecil _di-broadcast_ untuk menyamakan bentuk tensor yang lebih besar\n",
    "\n",
    "`tf.broadcast_to()` = broadcast data dari dimensi kecil ke dimensi yang besar"
   ]
  },
  {
   "cell_type": "code",
   "execution_count": 25,
   "metadata": {},
   "outputs": [
    {
     "name": "stdout",
     "output_type": "stream",
     "text": [
      "original data:  [[1 2 3 4 5 6]]\n",
      "broadcasted data:  <bound method _EagerTensorBase.numpy of <tf.Tensor: shape=(4, 6), dtype=int32, numpy=\n",
      "array([[1, 2, 3, 4, 5, 6],\n",
      "       [1, 2, 3, 4, 5, 6],\n",
      "       [1, 2, 3, 4, 5, 6],\n",
      "       [1, 2, 3, 4, 5, 6]])>>\n"
     ]
    }
   ],
   "source": [
    "broadcast_sample = tf.constant([[1,2,3,4,5,6]]) # create a 1x6 matrix\n",
    "print(\"original data: \", broadcast_sample.numpy())\n",
    "\n",
    "broadcasted_sample = tf.broadcast_to(broadcast_sample, shape=[4,6]) # change the shape to 4x6\n",
    "print(\"broadcasted data: \", broadcasted_sample.numpy) # the matrix has transposed from 3x4 to 4x3"
   ]
  },
  {
   "cell_type": "markdown",
   "metadata": {},
   "source": []
  }
 ],
 "metadata": {
  "kernelspec": {
   "display_name": "Python 3.10.2 64-bit",
   "language": "python",
   "name": "python3"
  },
  "language_info": {
   "codemirror_mode": {
    "name": "ipython",
    "version": 3
   },
   "file_extension": ".py",
   "mimetype": "text/x-python",
   "name": "python",
   "nbconvert_exporter": "python",
   "pygments_lexer": "ipython3",
   "version": "3.10.2"
  },
  "orig_nbformat": 4,
  "vscode": {
   "interpreter": {
    "hash": "661c9fc443e9071e90d7dc80d4092ed007e1e67e17e12b1f6b1cd12c13d9aa66"
   }
  }
 },
 "nbformat": 4,
 "nbformat_minor": 2
}
