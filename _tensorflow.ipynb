{
 "cells": [
  {
   "cell_type": "markdown",
   "metadata": {},
   "source": [
    "- variable tensors = generally used as matrices for storing weights & other informations, and are a **type of trainable data.**\n",
    "\n",
    "- constant tensors are used as **variables for storing hyperparameters** or other structured data."
   ]
  },
  {
   "cell_type": "code",
   "execution_count": 2,
   "metadata": {},
   "outputs": [],
   "source": [
    "import tensorflow as tf"
   ]
  },
  {
   "cell_type": "code",
   "execution_count": 6,
   "metadata": {},
   "outputs": [
    {
     "name": "stdout",
     "output_type": "stream",
     "text": [
      "shape:  (2, 2)\n",
      "data type:  <dtype: 'float32'>\n",
      "value:  [[1. 2.]\n",
      " [3. 4.]]\n"
     ]
    }
   ],
   "source": [
    "const_a = tf.constant([[1,2, 3, 4]], shape=[2,2], dtype=tf.float32)\n",
    "const_a\n",
    "\n",
    "# common constant attributes\n",
    "print(\"shape: \", const_a.shape) \n",
    "print(\"data type: \", const_a.dtype) \n",
    "print(\"value: \", const_a.numpy())"
   ]
  },
  {
   "cell_type": "code",
   "execution_count": 12,
   "metadata": {},
   "outputs": [
    {
     "data": {
      "text/plain": [
       "array([[0., 0.],\n",
       "       [0., 0.]], dtype=float32)"
      ]
     },
     "execution_count": 12,
     "metadata": {},
     "output_type": "execute_result"
    }
   ],
   "source": [
    "zeros_b = tf.zeros([3,5], dtype=tf.float32)\n",
    "zeros_b\n",
    "\n",
    "zeros_like_b = tf.zeros_like(const_a) # create zeroes with attributes like const_a\n",
    "zeros_like_b.numpy()"
   ]
  },
  {
   "cell_type": "code",
   "execution_count": null,
   "metadata": {},
   "outputs": [],
   "source": []
  }
 ],
 "metadata": {
  "kernelspec": {
   "display_name": "Python 3.10.2 64-bit",
   "language": "python",
   "name": "python3"
  },
  "language_info": {
   "codemirror_mode": {
    "name": "ipython",
    "version": 3
   },
   "file_extension": ".py",
   "mimetype": "text/x-python",
   "name": "python",
   "nbconvert_exporter": "python",
   "pygments_lexer": "ipython3",
   "version": "3.10.2"
  },
  "orig_nbformat": 4,
  "vscode": {
   "interpreter": {
    "hash": "661c9fc443e9071e90d7dc80d4092ed007e1e67e17e12b1f6b1cd12c13d9aa66"
   }
  }
 },
 "nbformat": 4,
 "nbformat_minor": 2
}
