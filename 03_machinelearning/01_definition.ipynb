{
 "cells": [
  {
   "cell_type": "markdown",
   "metadata": {},
   "source": [
    "# - Definition -\n",
    "\n",
    "### Algoritma Machine Learning\n",
    "Machine learning adalah bidang ilmu yang mempelajari algoritma dan model secara statistik yang diharapkan dapat menjalankan fungsi untuk mencapai sebuah tujuan tertentu tanpa arahan dari penggunanya.\n",
    "\n",
    "### Cara kerja machine learning\n",
    "Machine learning bekerja dengan menggunakan data. Programmer atau pembuat mesin mengambil data dan melatih (**training**) atau mengajari data-data tersebut sesuai tujuan mesin. Jika sudah dilatih, akan dibuat **model** machine learning-nya.\n",
    "\n",
    "Model inilah yang akan dijadikan _sistem_ tempat memasukkan data baru dan mengevaluasi apakah mesin sudah berjalan sesuai dengan tujuan atau belum.\n",
    "\n",
    "### _if-else_ vs. algoritma machine learning\n",
    "Jika dilihat dari cara kerjanya, machine learning memang mirip seperti perintah _if-else statement_ pada pemrograman biasa atau _rule-based algorithm_. Perbedaan yang terletak antara keduanya terletak pada inputnya. \n",
    "\n",
    "Pada rule-based algorithm, digunakan perintah yang eksplisit dan diatur secara manual. Output pada rule-based algorithm juga merupakan output yang pasti dan _strict_. Pada algoritma machine learning, terdapat **model** yang digunakan untuk mengolah data dan memprediksi outputnya. Aturan pada algoritma machine learning juga kompleks karena dibuat oleh si \"mesin pintar\" tersebut a.k.a machine learning."
   ]
  },
  {
   "cell_type": "markdown",
   "metadata": {},
   "source": [
    "### Kapan kita harus menggunakan machine learning?"
   ]
  }
 ],
 "metadata": {
  "kernelspec": {
   "display_name": "Python 3.10.2 64-bit",
   "language": "python",
   "name": "python3"
  },
  "language_info": {
   "name": "python",
   "version": "3.10.2"
  },
  "orig_nbformat": 4,
  "vscode": {
   "interpreter": {
    "hash": "661c9fc443e9071e90d7dc80d4092ed007e1e67e17e12b1f6b1cd12c13d9aa66"
   }
  }
 },
 "nbformat": 4,
 "nbformat_minor": 2
}
