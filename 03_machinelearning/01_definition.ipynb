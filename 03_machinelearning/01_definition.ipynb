{
 "cells": [
  {
   "cell_type": "markdown",
   "metadata": {},
   "source": [
    "# Definition\n",
    "\n",
    "## Algoritma Machine Learning\n",
    "Machine learning adalah bidang ilmu yang mempelajari algoritma dan model secara statistik yang diharapkan dapat menjalankan fungsi untuk mencapai sebuah tujuan tertentu tanpa arahan dari penggunanya.\n",
    "\n",
    "## Cara kerja machine learning\n",
    "Machine learning bekerja dengan menggunakan data. Programmer atau pembuat mesin mengambil data dan melatih (training) atau mengajari data-data tersebut sesuai tujuan mesin. Jika sudah dilatih, akan dibuat model machine learning-nya. Model inilah yang akan dijadikan _sistem_ tempat memasukkan data baru."
   ]
  }
 ],
 "metadata": {
  "kernelspec": {
   "display_name": "Python 3.10.2 64-bit",
   "language": "python",
   "name": "python3"
  },
  "language_info": {
   "name": "python",
   "version": "3.10.2"
  },
  "orig_nbformat": 4,
  "vscode": {
   "interpreter": {
    "hash": "661c9fc443e9071e90d7dc80d4092ed007e1e67e17e12b1f6b1cd12c13d9aa66"
   }
  }
 },
 "nbformat": 4,
 "nbformat_minor": 2
}
